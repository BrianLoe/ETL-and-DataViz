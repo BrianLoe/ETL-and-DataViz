{
 "cells": [
  {
   "cell_type": "code",
   "execution_count": null,
   "id": "442e7cb3",
   "metadata": {},
   "outputs": [],
   "source": [
    "import pandas as pd\n",
    "import numpy as np\n",
    "import warnings\n",
    "from datetime import datetime, timedelta\n",
    "warnings.filterwarnings('ignore')"
   ]
  },
  {
   "cell_type": "markdown",
   "id": "540ebda7",
   "metadata": {},
   "source": [
    "# Human Resource / People analytics data.\n",
    "Project for data cleaning and data visualisation. Read disclaimer attributed to the original author for this project."
   ]
  },
  {
   "cell_type": "markdown",
   "id": "d78c9d8b",
   "metadata": {},
   "source": [
    "# Data cleaning"
   ]
  },
  {
   "cell_type": "markdown",
   "id": "d1595c55",
   "metadata": {},
   "source": [
    "## Extraction Phase"
   ]
  },
  {
   "cell_type": "markdown",
   "id": "9f511622",
   "metadata": {},
   "source": [
    "There is a total of 5 data in which one of them is about survey. The remaining 4 data is considered to essential for the overall analysis while the survey data will be separately used for engagement analysis. Both combined will create People Analytics."
   ]
  },
  {
   "cell_type": "markdown",
   "id": "0196d7ec",
   "metadata": {},
   "source": [
    "I identified the 4 data as listed:\n",
    "- company data → `2021.06_COL_2021.txt`\n",
    "- job_detail data → `2021.06_job_profile_mapping.txt`\n",
    "- full data → `CompanyData.txt`\n",
    "- demographic data → `Diversity.txt`\n",
    "\n",
    "In addition with survey data → `EngagementSurvey.txt`"
   ]
  },
  {
   "cell_type": "code",
   "execution_count": null,
   "id": "c21c55e3",
   "metadata": {},
   "outputs": [],
   "source": [
    "def log(message):\n",
    "    timestamp_format = '%Y-%h-%d-%H:%M:%S'\n",
    "    now = datetime.now()\n",
    "    timestamp = now.strftime(timestamp_format)\n",
    "    with open(\"logfile.txt\",'a') as f:\n",
    "        f.write(timestamp+', '+message+'\\n')\n",
    "    print(message)"
   ]
  },
  {
   "cell_type": "markdown",
   "id": "5d075e29",
   "metadata": {},
   "source": [
    "### Importing first 4 data"
   ]
  },
  {
   "cell_type": "code",
   "execution_count": null,
   "id": "71960e73",
   "metadata": {},
   "outputs": [],
   "source": [
    "import time"
   ]
  },
  {
   "cell_type": "code",
   "execution_count": null,
   "id": "087a6a91",
   "metadata": {},
   "outputs": [],
   "source": [
    "log('Extracting Data ...')\n",
    "start_time = time.time()"
   ]
  },
  {
   "cell_type": "code",
   "execution_count": null,
   "id": "1ba3b094",
   "metadata": {},
   "outputs": [],
   "source": [
    "company_data = pd.read_csv('data/2021.06_COL_2021.txt', sep='\\t')\n",
    "company_data.head()"
   ]
  },
  {
   "cell_type": "code",
   "execution_count": null,
   "id": "ad7bf682",
   "metadata": {},
   "outputs": [],
   "source": [
    "job_data = pd.read_csv('data/2021.06_job_profile_mapping.txt', sep='\\t')\n",
    "job_data.head()"
   ]
  },
  {
   "cell_type": "code",
   "execution_count": null,
   "id": "a775387a",
   "metadata": {},
   "outputs": [],
   "source": [
    "full_data = pd.read_csv('data/CompanyData.txt', sep='\\t', encoding='utf_16_le')\n",
    "full_data.head()"
   ]
  },
  {
   "cell_type": "code",
   "execution_count": null,
   "id": "b92cc501",
   "metadata": {},
   "outputs": [],
   "source": [
    "demographic_data = pd.read_csv('data/Diversity.txt', sep='\\t')\n",
    "demographic_data.head()"
   ]
  },
  {
   "cell_type": "code",
   "execution_count": null,
   "id": "4e819854",
   "metadata": {
    "scrolled": true
   },
   "outputs": [],
   "source": [
    "survey_data = pd.read_csv('data/EngagementSurvey.txt', sep='\\t')\n",
    "survey_data.head()"
   ]
  },
  {
   "cell_type": "code",
   "execution_count": null,
   "id": "b0a31d50",
   "metadata": {},
   "outputs": [],
   "source": [
    "log('Extraction done in --- %s seconds ---' % (time.time()-start_time))"
   ]
  },
  {
   "cell_type": "markdown",
   "id": "18d9506b",
   "metadata": {},
   "source": [
    "# Transformation Phase"
   ]
  },
  {
   "cell_type": "code",
   "execution_count": null,
   "id": "f8065e72",
   "metadata": {},
   "outputs": [],
   "source": [
    "log('Transforming Data ...')\n",
    "start_time = time.time()"
   ]
  },
  {
   "cell_type": "markdown",
   "id": "48f130b8",
   "metadata": {},
   "source": [
    "Let's first find out how many data we have in each table"
   ]
  },
  {
   "cell_type": "code",
   "execution_count": null,
   "id": "a62f5f87",
   "metadata": {},
   "outputs": [],
   "source": [
    "print('The company data has {0} columns and {1} rows'.format(company_data.shape[1],company_data.shape[0]))\n",
    "print('The job data has {0} columns and {1} rows'.format(job_data.shape[1],job_data.shape[0]))\n",
    "print('The full data has {0} columns and {1} rows'.format(full_data.shape[1],full_data.shape[0]))\n",
    "print('The demographic data has {0} columns and {1} rows'.format(demographic_data.shape[1],demographic_data.shape[0]))\n",
    "print('The survey data has {0} columns and {1} rows'.format(survey_data.shape[1],survey_data.shape[0]))"
   ]
  },
  {
   "cell_type": "markdown",
   "id": "4a33e4b7",
   "metadata": {},
   "source": [
    "## Company Data"
   ]
  },
  {
   "cell_type": "code",
   "execution_count": null,
   "id": "198174bd",
   "metadata": {},
   "outputs": [],
   "source": [
    "company_data"
   ]
  },
  {
   "cell_type": "markdown",
   "id": "c77ef365",
   "metadata": {},
   "source": [
    "We are going to remove `COL Amount` because it is not relevant to analysis."
   ]
  },
  {
   "cell_type": "code",
   "execution_count": null,
   "id": "6137535c",
   "metadata": {},
   "outputs": [],
   "source": [
    "company_data.drop('COL Amount', axis=1, inplace=True)"
   ]
  },
  {
   "cell_type": "markdown",
   "id": "8a1a8df6",
   "metadata": {},
   "source": [
    "The table stores office details, it does not contain any meaningful features, so I decided to remove `COL Amount` for now."
   ]
  },
  {
   "cell_type": "markdown",
   "id": "a75a0beb",
   "metadata": {},
   "source": [
    "## Job data"
   ]
  },
  {
   "cell_type": "code",
   "execution_count": null,
   "id": "bd91bff9",
   "metadata": {},
   "outputs": [],
   "source": [
    "job_data.head(10)"
   ]
  },
  {
   "cell_type": "code",
   "execution_count": null,
   "id": "db1cf343",
   "metadata": {},
   "outputs": [],
   "source": [
    "job_data.describe(include='all')"
   ]
  },
  {
   "cell_type": "markdown",
   "id": "d6bd147c",
   "metadata": {},
   "source": [
    "### Converting `Compensation` into float data type"
   ]
  },
  {
   "cell_type": "code",
   "execution_count": null,
   "id": "b91e3e2b",
   "metadata": {},
   "outputs": [],
   "source": [
    "job_data.rename(columns={' Compensation ':'Compensation'}, inplace=True)\n",
    "job_data['Compensation']=job_data['Compensation'].str.strip().str.replace(',','')\n",
    "job_data['Compensation']=pd.to_numeric(job_data['Compensation'])"
   ]
  },
  {
   "cell_type": "code",
   "execution_count": null,
   "id": "9b4463dc",
   "metadata": {},
   "outputs": [],
   "source": [
    "job_data.head()"
   ]
  },
  {
   "cell_type": "code",
   "execution_count": null,
   "id": "58ac7216",
   "metadata": {},
   "outputs": [],
   "source": [
    "job_data.describe(include='all')"
   ]
  },
  {
   "cell_type": "code",
   "execution_count": null,
   "id": "77465d11",
   "metadata": {},
   "outputs": [],
   "source": [
    "job_data.isna().sum()"
   ]
  },
  {
   "cell_type": "markdown",
   "id": "bfdd228e",
   "metadata": {},
   "source": [
    "The job details data does not have any null values. At the current stage, I only need to convert `Compensation` data type."
   ]
  },
  {
   "cell_type": "markdown",
   "id": "bf223397",
   "metadata": {},
   "source": [
    "Changes note: Adding validation discovered in normalization"
   ]
  },
  {
   "cell_type": "markdown",
   "id": "32b1121b",
   "metadata": {},
   "source": [
    "Checking if job profile in full_data matches job profile in job_data"
   ]
  },
  {
   "cell_type": "code",
   "execution_count": null,
   "id": "8cc7cc92",
   "metadata": {},
   "outputs": [],
   "source": [
    "job_data.rename(columns={'Bonus %':'Bonus_pct', 'Level':'level'}, inplace=True)\n",
    "col_to_drop = list(job_data.columns)\n",
    "col_to_drop\n",
    "\n",
    "col_to_drop.remove('Compensation')"
   ]
  },
  {
   "cell_type": "code",
   "execution_count": null,
   "id": "b2208cf7",
   "metadata": {},
   "outputs": [],
   "source": [
    "job_copy = job_data.copy()"
   ]
  },
  {
   "cell_type": "code",
   "execution_count": null,
   "id": "6e7c38b7",
   "metadata": {},
   "outputs": [],
   "source": [
    "job_data.equals(job_copy)"
   ]
  },
  {
   "cell_type": "code",
   "execution_count": null,
   "id": "77c9288e",
   "metadata": {},
   "outputs": [],
   "source": [
    "job_copy=job_copy[['Job_Profile']]\n",
    "job_copy.head()"
   ]
  },
  {
   "cell_type": "code",
   "execution_count": null,
   "id": "449bb780",
   "metadata": {
    "scrolled": true
   },
   "outputs": [],
   "source": [
    "job_copy = job_copy.merge(full_data[col_to_drop], on='Job_Profile', how='left').drop_duplicates()\n",
    "print(job_copy.shape)\n",
    "job_copy.reset_index(drop=True,inplace=True)\n",
    "job_copy"
   ]
  },
  {
   "cell_type": "markdown",
   "id": "8cc9ab19",
   "metadata": {},
   "source": [
    "Obviously, there are duplicated values of job profile. `Salary` was omitted here because it does not depend on job profile. If we had included `Salary`, there will be **750** unique job profiles. We are going to add the new job profiles created above by creating new job_profile (ids). This will not remove the original job profile, instead we add more job profiles. Originally we have 54 job profiles, now we will ad 6 more."
   ]
  },
  {
   "cell_type": "markdown",
   "id": "039f72fa",
   "metadata": {},
   "source": [
    "Creating new job profiles"
   ]
  },
  {
   "cell_type": "code",
   "execution_count": null,
   "id": "800a43df",
   "metadata": {
    "scrolled": true
   },
   "outputs": [],
   "source": [
    "job_copy.drop('Job_Profile',axis=1, inplace=True)\n",
    "job_copy['Job_Profile']=['JP_'+str(i) for i in range(1000,1000+job_copy.shape[0])]\n",
    "job_copy"
   ]
  },
  {
   "cell_type": "code",
   "execution_count": null,
   "id": "0169074b",
   "metadata": {
    "scrolled": true
   },
   "outputs": [],
   "source": [
    "job_data[job_data.duplicated(subset='Job_Profile')] # Check if there are still duplicates"
   ]
  },
  {
   "cell_type": "markdown",
   "id": "fd9e1a08",
   "metadata": {},
   "source": [
    "Add compensation back"
   ]
  },
  {
   "cell_type": "code",
   "execution_count": null,
   "id": "f7281f8a",
   "metadata": {
    "scrolled": true
   },
   "outputs": [],
   "source": [
    "col_to_drop.append('Compensation')\n",
    "col_to_drop.remove('Job_Profile')\n",
    "col_to_drop"
   ]
  },
  {
   "cell_type": "code",
   "execution_count": null,
   "id": "fca0eef9",
   "metadata": {
    "scrolled": true
   },
   "outputs": [],
   "source": [
    "col_on = col_to_drop.copy()\n",
    "col_on.remove('Compensation')\n",
    "job_copy = job_copy.merge(job_data[col_to_drop], on=col_on, how='left')\n",
    "job_copy.head()"
   ]
  },
  {
   "cell_type": "code",
   "execution_count": null,
   "id": "9e9b9aee",
   "metadata": {},
   "outputs": [],
   "source": [
    "full_data.drop('Job_Profile', axis=1, inplace=True)"
   ]
  },
  {
   "cell_type": "code",
   "execution_count": null,
   "id": "db871233",
   "metadata": {},
   "outputs": [],
   "source": [
    "col_to_drop.remove('Compensation')"
   ]
  },
  {
   "cell_type": "code",
   "execution_count": null,
   "id": "9d6be28b",
   "metadata": {
    "scrolled": true
   },
   "outputs": [],
   "source": [
    "full_data=full_data.merge(job_copy, on=col_to_drop, how='left')\n",
    "full_data.head(10)"
   ]
  },
  {
   "cell_type": "code",
   "execution_count": null,
   "id": "8037d434",
   "metadata": {},
   "outputs": [],
   "source": [
    "full_data.columns"
   ]
  },
  {
   "cell_type": "markdown",
   "id": "d3dd8689",
   "metadata": {},
   "source": [
    "Validated Job profile for job_data, created new job profiles and fixing it inside full_data."
   ]
  },
  {
   "cell_type": "markdown",
   "id": "abc84823",
   "metadata": {},
   "source": [
    "## Full data"
   ]
  },
  {
   "cell_type": "code",
   "execution_count": null,
   "id": "d1de29d9",
   "metadata": {
    "scrolled": true
   },
   "outputs": [],
   "source": [
    "full_data.head(10)"
   ]
  },
  {
   "cell_type": "code",
   "execution_count": null,
   "id": "a3934e66",
   "metadata": {},
   "outputs": [],
   "source": [
    "full_data['Notes']"
   ]
  },
  {
   "cell_type": "markdown",
   "id": "80a1c38d",
   "metadata": {},
   "source": [
    "Unseen Columns"
   ]
  },
  {
   "cell_type": "code",
   "execution_count": null,
   "id": "214f940e",
   "metadata": {},
   "outputs": [],
   "source": [
    "full_data.head().iloc[:,5:]"
   ]
  },
  {
   "cell_type": "code",
   "execution_count": null,
   "id": "504a77ea",
   "metadata": {},
   "outputs": [],
   "source": [
    "full_data.describe(include='all').iloc[:,:13]"
   ]
  },
  {
   "cell_type": "code",
   "execution_count": null,
   "id": "baca9ef7",
   "metadata": {},
   "outputs": [],
   "source": [
    "full_data.describe(include='all').iloc[:,13:]"
   ]
  },
  {
   "cell_type": "markdown",
   "id": "6901f0df",
   "metadata": {},
   "source": [
    "### Data Validation"
   ]
  },
  {
   "cell_type": "markdown",
   "id": "760f311a",
   "metadata": {},
   "source": [
    "We are going to check whether there is any values that violate data integrity. First, we will check the age of the employees.  \n",
    "I am going to do a general check first by checking the distribution of employees' age. This can be found out in the descriptive statistics above and below for detailed view."
   ]
  },
  {
   "cell_type": "code",
   "execution_count": null,
   "id": "90851569",
   "metadata": {},
   "outputs": [],
   "source": [
    "full_data.describe(include='all').loc[:,'Age']"
   ]
  },
  {
   "cell_type": "markdown",
   "id": "81e0e0f4",
   "metadata": {},
   "source": [
    "Check complete. The minimum age is 19 and the maximum age is 90. This looks normal except probably age 90 where it could be the CEO or someone with high position.  "
   ]
  },
  {
   "cell_type": "markdown",
   "id": "8c3be293",
   "metadata": {},
   "source": [
    "Now, we are going to check the termination date. We are going to do a simple check where the value cannot be more than the today date. However, this value actually can be true because some employee might give notice or had a plan to quit the company in near future (all back to company rules)."
   ]
  },
  {
   "cell_type": "markdown",
   "id": "53350dbd",
   "metadata": {},
   "source": [
    "Notice that the termination_date includes 12/12/2999 which indicate that the employee has not terminated yet. For example:"
   ]
  },
  {
   "cell_type": "code",
   "execution_count": null,
   "id": "1e91d5f8",
   "metadata": {},
   "outputs": [],
   "source": [
    "full_data.loc[full_data['Termination_Date']=='12/12/2999'].head()"
   ]
  },
  {
   "cell_type": "markdown",
   "id": "ef70029f",
   "metadata": {},
   "source": [
    "For data analysis purpose, replacing it with `NaN` will be more meaningful.  \n",
    "Now we can check for termination date that is past today date."
   ]
  },
  {
   "cell_type": "code",
   "execution_count": null,
   "id": "fd75088a",
   "metadata": {
    "scrolled": true
   },
   "outputs": [],
   "source": [
    "full_data['Start_Date']=pd.to_datetime(full_data['Start_Date'])\n",
    "full_data['Termination_Date']=pd.to_datetime(full_data['Termination_Date'], errors='coerce')\n",
    "full_data.dtypes"
   ]
  },
  {
   "cell_type": "code",
   "execution_count": null,
   "id": "612e07b5",
   "metadata": {
    "scrolled": true
   },
   "outputs": [],
   "source": [
    "from datetime import datetime,timedelta\n",
    "\n",
    "full_data.loc[full_data['Termination_Date']>datetime.today(),'Start_Date':]"
   ]
  },
  {
   "cell_type": "markdown",
   "id": "34c8423c",
   "metadata": {},
   "source": [
    "It turns out there is a lot of rows with termination date violating data integrity **(124 rows)**. Obviously this can or cannot happen in real-world scenario (depends on company rules). The company might allow for employee to give for example 1 month notice period. But, more than 1 month is a little unrealistic. So, for this project purposes, we are going to convert the termination date to today's date. "
   ]
  },
  {
   "cell_type": "markdown",
   "id": "1ab775ad",
   "metadata": {},
   "source": [
    "While we are at it, might have to check if there are any data that has start date after termination date."
   ]
  },
  {
   "cell_type": "code",
   "execution_count": null,
   "id": "0188d477",
   "metadata": {},
   "outputs": [],
   "source": [
    "full_data.loc[full_data['Termination_Date']<full_data['Start_Date'],'Start_Date':]"
   ]
  },
  {
   "cell_type": "markdown",
   "id": "72c2d806",
   "metadata": {},
   "source": [
    "Check complete."
   ]
  },
  {
   "cell_type": "code",
   "execution_count": null,
   "id": "9073f75d",
   "metadata": {},
   "outputs": [],
   "source": [
    "# Converting termination date to today's date\n",
    "full_data['Termination_Date'].loc[full_data['Termination_Date']>datetime.today()]=datetime.today()\n",
    "full_data.iloc[189,12:]"
   ]
  },
  {
   "cell_type": "markdown",
   "id": "8bc0cf69",
   "metadata": {},
   "source": [
    "Dropping `Notes` column."
   ]
  },
  {
   "cell_type": "code",
   "execution_count": null,
   "id": "f32ec38e",
   "metadata": {},
   "outputs": [],
   "source": [
    "full_data.drop('Notes', axis=1, inplace=True)"
   ]
  },
  {
   "cell_type": "markdown",
   "id": "2f2d8d55",
   "metadata": {},
   "source": [
    "Adding `start_year` and `termination_year` as a column"
   ]
  },
  {
   "cell_type": "code",
   "execution_count": null,
   "id": "bbc0732e",
   "metadata": {},
   "outputs": [],
   "source": [
    "full_data['start_year']=full_data['Start_Date'].dt.strftime('%Y')\n",
    "full_data['termination_year']=full_data['Termination_Date'].dt.strftime('%Y')\n",
    "full_data.tail().iloc[:,12:]"
   ]
  },
  {
   "cell_type": "code",
   "execution_count": null,
   "id": "61964968",
   "metadata": {},
   "outputs": [],
   "source": [
    "full_data['termination_year'].fillna(0, inplace=True) # Fill null values in termination year with 0\n",
    "full_data = full_data.astype({'start_year':int,'termination_year':int})"
   ]
  },
  {
   "cell_type": "markdown",
   "id": "2981831c",
   "metadata": {},
   "source": [
    "Adding `tenure_months` and `tenure_years` to data by identifying whether employee still active or not"
   ]
  },
  {
   "cell_type": "markdown",
   "id": "25de2de5",
   "metadata": {},
   "source": [
    "Before we add, we are going to check if active status is true to termination date i.e. checking if there is any employee with active status true having terminated."
   ]
  },
  {
   "cell_type": "code",
   "execution_count": null,
   "id": "e381ce91",
   "metadata": {
    "scrolled": true
   },
   "outputs": [],
   "source": [
    "full_data.loc[(full_data['Active Status']==1) & (full_data['termination_year']>0)]"
   ]
  },
  {
   "cell_type": "markdown",
   "id": "ec03b250",
   "metadata": {},
   "source": [
    "It shows that there is 700 rows with active status still true for terminated employee. We are going to turn the true value into false."
   ]
  },
  {
   "cell_type": "code",
   "execution_count": null,
   "id": "f8e525fb",
   "metadata": {},
   "outputs": [],
   "source": [
    "full_data['Active Status'].loc[(full_data['Active Status']==1) & (full_data['termination_year']>0)]=0\n",
    "full_data.loc[(full_data['Active Status']==1) & (full_data['termination_year']>0)]"
   ]
  },
  {
   "cell_type": "markdown",
   "id": "11e3276f",
   "metadata": {},
   "source": [
    "Converting complete, now adding columns."
   ]
  },
  {
   "cell_type": "markdown",
   "id": "6824283a",
   "metadata": {},
   "source": [
    "First, extract the difference in days (we are going to drop this in the end) to make calculations easier for getting months and years."
   ]
  },
  {
   "cell_type": "code",
   "execution_count": null,
   "id": "e6723a31",
   "metadata": {
    "scrolled": true
   },
   "outputs": [],
   "source": [
    "full_data['diff_in_days']=0\n",
    "\n",
    "full_data['diff_in_days'].loc[full_data['Active Status']==0]=(full_data['Termination_Date']-full_data['Start_Date'])\n",
    "full_data['diff_in_days'].loc[full_data['Active Status']==1]=(datetime.today()-full_data['Start_Date'])\n",
    "\n",
    "full_data['tenure_months']=full_data['diff_in_days']/timedelta(days=30)\n",
    "full_data['tenure_years']=full_data['diff_in_days']/timedelta(days=365)\n",
    "full_data.tail(15).loc[:,'Start_Date':]"
   ]
  },
  {
   "cell_type": "markdown",
   "id": "54714a6c",
   "metadata": {},
   "source": [
    "Checking other parts of the data"
   ]
  },
  {
   "cell_type": "code",
   "execution_count": null,
   "id": "c0048cf8",
   "metadata": {
    "scrolled": true
   },
   "outputs": [],
   "source": [
    "full_data.iloc[4960:,12:]"
   ]
  },
  {
   "cell_type": "code",
   "execution_count": null,
   "id": "61b0576a",
   "metadata": {},
   "outputs": [],
   "source": [
    "full_data.drop('diff_in_days', axis=1, inplace=True)"
   ]
  },
  {
   "cell_type": "markdown",
   "id": "5e0e7329",
   "metadata": {},
   "source": [
    "#### Cleaning inconsistent state abbreviation"
   ]
  },
  {
   "cell_type": "code",
   "execution_count": null,
   "id": "87440f28",
   "metadata": {},
   "outputs": [],
   "source": [
    "list(set(full_data['State']))[:10]"
   ]
  },
  {
   "cell_type": "markdown",
   "id": "07e67509",
   "metadata": {},
   "source": [
    "We can see from above example that some state is not abbreviated defeating the purpose of `StateFull` column. We are going to replace the full name in `State` to abbreviated code."
   ]
  },
  {
   "cell_type": "markdown",
   "id": "8bd7c98a",
   "metadata": {},
   "source": [
    "Checking if there are any states beside US States"
   ]
  },
  {
   "cell_type": "code",
   "execution_count": null,
   "id": "f9d5fb80",
   "metadata": {},
   "outputs": [],
   "source": [
    "print('Null values for states beside US =',full_data.loc[full_data['Country']!='US']['State'].isna().sum())\n",
    "full_data.loc[full_data['Country']!='US']['State']"
   ]
  },
  {
   "cell_type": "markdown",
   "id": "7e76698b",
   "metadata": {},
   "source": [
    "We are going to webscrape the table for abbreviation US states."
   ]
  },
  {
   "cell_type": "code",
   "execution_count": null,
   "id": "65970c48",
   "metadata": {},
   "outputs": [],
   "source": [
    "url='https://www23.statcan.gc.ca/imdb/p3VD.pl?Function=getVD&TVD=53971'"
   ]
  },
  {
   "cell_type": "code",
   "execution_count": null,
   "id": "51e96432",
   "metadata": {},
   "outputs": [],
   "source": [
    "import requests\n",
    "from bs4 import BeautifulSoup\n",
    "\n",
    "html_data = requests.get(url).text\n",
    "html_data"
   ]
  },
  {
   "cell_type": "code",
   "execution_count": null,
   "id": "1cfa3bf4",
   "metadata": {},
   "outputs": [],
   "source": [
    "soup = BeautifulSoup(html_data, 'html5lib')"
   ]
  },
  {
   "cell_type": "code",
   "execution_count": null,
   "id": "c120b732",
   "metadata": {},
   "outputs": [],
   "source": [
    "table = soup.find_all('table')[0] # The located table"
   ]
  },
  {
   "cell_type": "code",
   "execution_count": null,
   "id": "7af46da3",
   "metadata": {},
   "outputs": [],
   "source": [
    "table_dict = {}\n",
    "\n",
    "table_dict['StateFull']=[]\n",
    "table_dict['Alpha code']=[]\n",
    "\n",
    "i = 0\n",
    "for row in table.find_all('td'): # Iterate rows\n",
    "    if i%3==0 and i!=0: # There are 3 columns in 'td' element, we need to iterate every 3 column to get to the new row\n",
    "        i=0 # reset i\n",
    "    # Extract state name\n",
    "    if i==0: \n",
    "        table_dict['StateFull'].append(' '.join(row.contents))\n",
    "    # Extract state code\n",
    "    if i==2:\n",
    "        table_dict['Alpha code'].append(' '.join(row.contents))\n",
    "    i+=1"
   ]
  },
  {
   "cell_type": "code",
   "execution_count": null,
   "id": "7df3ada9",
   "metadata": {},
   "outputs": [],
   "source": [
    "state_df = pd.DataFrame(table_dict)\n",
    "state_df.head()"
   ]
  },
  {
   "cell_type": "code",
   "execution_count": null,
   "id": "6d945d6f",
   "metadata": {},
   "outputs": [],
   "source": [
    "full_data=full_data.merge(state_df, on='StateFull', how='left')\n",
    "full_data.head()"
   ]
  },
  {
   "cell_type": "markdown",
   "id": "02feb88a",
   "metadata": {},
   "source": [
    "Adding Washington DC state manually as DC. This is because there are 2 washington's in the data, Washington DC and Washington. The correct state name for Washington DC is District of Columbia, so we are going to change that as well."
   ]
  },
  {
   "cell_type": "code",
   "execution_count": null,
   "id": "9dbf9d88",
   "metadata": {},
   "outputs": [],
   "source": [
    "full_data.loc[full_data['Country']!='US']['Alpha code'] # Check whether there are still the same number of null values"
   ]
  },
  {
   "cell_type": "code",
   "execution_count": null,
   "id": "6e9a2d05",
   "metadata": {
    "scrolled": true
   },
   "outputs": [],
   "source": [
    "full_data.drop('State', axis=1, inplace=True)\n",
    "full_data.rename(columns={'Alpha code':'State_code'}, inplace=True)\n",
    "full_data.head()"
   ]
  },
  {
   "cell_type": "code",
   "execution_count": null,
   "id": "b161e132",
   "metadata": {
    "scrolled": true
   },
   "outputs": [],
   "source": [
    "full_data['State_code'].loc[full_data['StateFull']=='Washington DC']='DC'\n",
    "full_data['StateFull'].loc[full_data['State_code']=='DC']='District of Columbia'\n",
    "full_data.loc[full_data['State_code']=='DC']"
   ]
  },
  {
   "cell_type": "code",
   "execution_count": null,
   "id": "269a2232",
   "metadata": {
    "scrolled": true
   },
   "outputs": [],
   "source": [
    "# Check whether state_code is an abbreviation now\n",
    "set(full_data['State_code'])"
   ]
  },
  {
   "cell_type": "markdown",
   "id": "69b30154",
   "metadata": {},
   "source": [
    "Update age to reflect current year"
   ]
  },
  {
   "cell_type": "code",
   "execution_count": null,
   "id": "30bcc978",
   "metadata": {},
   "outputs": [],
   "source": [
    "full_data['DOB']=pd.to_datetime(full_data['DOB'])\n",
    "full_data['Age']=round((datetime.today()-full_data['DOB'])/timedelta(days=365))\n",
    "full_data.head()"
   ]
  },
  {
   "cell_type": "markdown",
   "id": "6c21b4e5",
   "metadata": {},
   "source": [
    "Converting all currencies except USD to USD using exchange rates API."
   ]
  },
  {
   "cell_type": "code",
   "execution_count": null,
   "id": "76cad74e",
   "metadata": {},
   "outputs": [],
   "source": [
    "url = 'https://v6.exchangerate-api.com/v6/bbcdd4717012c0fb7b20f062/latest/USD'\n",
    "jsondata = requests.get(url).json()\n",
    "ex_rates = jsondata['conversion_rates']\n",
    "ex_rates"
   ]
  },
  {
   "cell_type": "code",
   "execution_count": null,
   "id": "afaa4942",
   "metadata": {},
   "outputs": [],
   "source": [
    "full_data['Salary(USD)'] = full_data.apply(lambda x: x.Salary/ex_rates[x.Currency], axis=1)\n",
    "full_data[['CountryFull','Salary', 'Compensation','Currency', 'Salary(USD)']].loc[full_data['Currency']=='GBP'].head()"
   ]
  },
  {
   "cell_type": "code",
   "execution_count": null,
   "id": "f0de371f",
   "metadata": {},
   "outputs": [],
   "source": [
    "full_data.drop('Salary', axis=1, inplace=True)"
   ]
  },
  {
   "cell_type": "markdown",
   "id": "ac847b2f",
   "metadata": {},
   "source": [
    "The full data (or main data) is a join of the other 3 data (except survey). It includes all details about the employee.  "
   ]
  },
  {
   "cell_type": "code",
   "execution_count": null,
   "id": "dff54b76",
   "metadata": {},
   "outputs": [],
   "source": [
    "log(\"Transformation that were done in full data {0} :\".format(datetime.today()))\n",
    "log(\"- Replacing termination date value of 12/12/2999 to NaN\")\n",
    "log(\"- Converting violating termination date values to today's date\")\n",
    "log(\"- Drop 'notes' column\")\n",
    "log(\"- Adding start_year and termination_year\")\n",
    "log(\"- Inactivating status for terminated employees\")\n",
    "log(\"- Adding tenure_year and tenure_months\")\n",
    "log(\"- Cleaning state column\")\n",
    "log(\"- Updating age values\")\n",
    "log(\"- Converting salary to USD\")"
   ]
  },
  {
   "cell_type": "markdown",
   "id": "dd2f6a30",
   "metadata": {},
   "source": [
    "## Demographic Data"
   ]
  },
  {
   "cell_type": "code",
   "execution_count": null,
   "id": "1fccf9e4",
   "metadata": {},
   "outputs": [],
   "source": [
    "demographic_data.head(10)"
   ]
  },
  {
   "cell_type": "code",
   "execution_count": null,
   "id": "fad03f59",
   "metadata": {},
   "outputs": [],
   "source": [
    "demographic_data.isna().sum()"
   ]
  },
  {
   "cell_type": "code",
   "execution_count": null,
   "id": "e0cce2be",
   "metadata": {},
   "outputs": [],
   "source": [
    "demographic_data.describe(include='all')"
   ]
  },
  {
   "cell_type": "markdown",
   "id": "28a68b97",
   "metadata": {},
   "source": [
    "Investigating null values in Race/Ethnicity column"
   ]
  },
  {
   "cell_type": "code",
   "execution_count": null,
   "id": "3f1e67d0",
   "metadata": {},
   "outputs": [],
   "source": [
    "set(demographic_data['Race/Ethnicity'])"
   ]
  },
  {
   "cell_type": "markdown",
   "id": "91423607",
   "metadata": {},
   "source": [
    "We have 9 unique ethnicities in the data. For `NaN` values, I will treat is as `Prefer not to say` as it will be more meaningful for our data analysis purposes."
   ]
  },
  {
   "cell_type": "code",
   "execution_count": null,
   "id": "551e6c87",
   "metadata": {},
   "outputs": [],
   "source": [
    "demographic_data.loc[demographic_data['Race/Ethnicity'].isna()].head(5)"
   ]
  },
  {
   "cell_type": "code",
   "execution_count": null,
   "id": "c72c5d40",
   "metadata": {},
   "outputs": [],
   "source": [
    "demographic_data['Race/Ethnicity'].fillna('Prefer not to say', inplace=True)\n",
    "demographic_data.loc[demographic_data['Race/Ethnicity'].isna()]"
   ]
  },
  {
   "cell_type": "markdown",
   "id": "3985d4cb",
   "metadata": {},
   "source": [
    "This also removes all null values from demographic data."
   ]
  },
  {
   "cell_type": "markdown",
   "id": "2f209e4a",
   "metadata": {},
   "source": [
    "## Survey Data"
   ]
  },
  {
   "cell_type": "code",
   "execution_count": null,
   "id": "3a7722b0",
   "metadata": {},
   "outputs": [],
   "source": [
    "survey_data.head(10)"
   ]
  },
  {
   "cell_type": "code",
   "execution_count": null,
   "id": "fc8f32f5",
   "metadata": {},
   "outputs": [],
   "source": [
    "survey_data.describe(include='all').iloc[:,:10]"
   ]
  },
  {
   "cell_type": "code",
   "execution_count": null,
   "id": "e17f0ca5",
   "metadata": {},
   "outputs": [],
   "source": [
    "survey_data.describe(include='all').iloc[:,10:]"
   ]
  },
  {
   "cell_type": "markdown",
   "id": "8cebbe99",
   "metadata": {},
   "source": [
    "The survey is a rating with a range of 1-5 with 5 being the highest. There is 19 questions for the survey. Two additional questions was for feedback towards TheCompany. I am going to extract the `quarter` value from `Survey` column."
   ]
  },
  {
   "cell_type": "code",
   "execution_count": null,
   "id": "00518e65",
   "metadata": {},
   "outputs": [],
   "source": [
    "survey_data['survey_quarter']=survey_data['Survey'].str[-2:]\n",
    "survey_data.head().iloc[:,16:]"
   ]
  },
  {
   "cell_type": "markdown",
   "id": "9c4114f6",
   "metadata": {},
   "source": [
    "Let's look at the null values"
   ]
  },
  {
   "cell_type": "code",
   "execution_count": null,
   "id": "342d5a51",
   "metadata": {},
   "outputs": [],
   "source": [
    "survey_data.isna().sum()"
   ]
  },
  {
   "cell_type": "markdown",
   "id": "35c9ece5",
   "metadata": {},
   "source": [
    "All rows for the feedback columns i.e. `What does TheCompany do well?` and `What can TheCompany improve?` are null. We are going to remove those columns because at this stage it does not give any information."
   ]
  },
  {
   "cell_type": "code",
   "execution_count": null,
   "id": "0d6ee691",
   "metadata": {},
   "outputs": [],
   "source": [
    "survey_data.drop(['What does TheCompany do well?','What can TheCompany improve?'], axis=1,\n",
    "                inplace=True)\n",
    "survey_data.head()"
   ]
  },
  {
   "cell_type": "code",
   "execution_count": null,
   "id": "dabb153b",
   "metadata": {},
   "outputs": [],
   "source": [
    "log('Transformation done in --- %s seconds ---' % (time.time()-start_time))"
   ]
  },
  {
   "cell_type": "markdown",
   "id": "7358e693",
   "metadata": {},
   "source": [
    "We just dropped the two empty columns and add survey time `quarter` to the data.  \n",
    "Now, let's load the data into a new dataset."
   ]
  },
  {
   "cell_type": "markdown",
   "id": "769ca4bd",
   "metadata": {},
   "source": [
    "## Loading Phase"
   ]
  },
  {
   "cell_type": "code",
   "execution_count": null,
   "id": "3134a148",
   "metadata": {},
   "outputs": [],
   "source": [
    "log('Loading Data ...')\n",
    "start_time = time.time()"
   ]
  },
  {
   "cell_type": "code",
   "execution_count": null,
   "id": "0c23d372",
   "metadata": {},
   "outputs": [],
   "source": [
    "company_data.to_csv('cleanData/company_details.csv', index=False)\n",
    "job_copy.to_csv('cleanData/job_details.csv', index=False)\n",
    "full_data.to_csv('cleanData/main_data.csv', index=False)\n",
    "demographic_data.to_csv('cleanData/employee_details.csv', index=False)\n",
    "survey_data.to_csv('cleanData/survey_data.csv', index=False)"
   ]
  },
  {
   "cell_type": "code",
   "execution_count": null,
   "id": "1f08f0c7",
   "metadata": {},
   "outputs": [],
   "source": [
    "log('Loading done in --- %s seconds ---' % (time.time()-start_time))\n",
    "log('\\n')"
   ]
  },
  {
   "cell_type": "code",
   "execution_count": null,
   "id": "9267bb74",
   "metadata": {},
   "outputs": [],
   "source": []
  }
 ],
 "metadata": {
  "kernelspec": {
   "display_name": "Python 3 (ipykernel)",
   "language": "python",
   "name": "python3"
  },
  "language_info": {
   "codemirror_mode": {
    "name": "ipython",
    "version": 3
   },
   "file_extension": ".py",
   "mimetype": "text/x-python",
   "name": "python",
   "nbconvert_exporter": "python",
   "pygments_lexer": "ipython3",
   "version": "3.8.12"
  }
 },
 "nbformat": 4,
 "nbformat_minor": 5
}
