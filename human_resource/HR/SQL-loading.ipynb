{
 "cells": [
  {
   "cell_type": "markdown",
   "id": "af3cd71a",
   "metadata": {},
   "source": [
    "# Loading data into Postgresql databases on local server."
   ]
  },
  {
   "cell_type": "markdown",
   "id": "73d6a86f",
   "metadata": {},
   "source": [
    "We are going to load the tables we have normalized and validated earlier into Postgresql database local server.  \n",
    "First, we have to establish a connection to the server using library psycopg2. I have created the login parameters in a separate file. I have also created a configuration file to read the defined parameters into a dictionary."
   ]
  },
  {
   "cell_type": "markdown",
   "id": "1b8fc4b9",
   "metadata": {},
   "source": [
    "## Establishing connection to Postgresql server\n",
    "I already created the database that I am going to use with the name Human_resource. So, I am going to directly connect to that database"
   ]
  },
  {
   "cell_type": "code",
   "execution_count": 91,
   "id": "4da884aa",
   "metadata": {},
   "outputs": [
    {
     "name": "stdout",
     "output_type": "stream",
     "text": [
      "Connecting to the PostgreSQL database...\n",
      "Connected to database\n"
     ]
    }
   ],
   "source": [
    "import psycopg2\n",
    "from config import config\n",
    "\n",
    "# Connect to the PostgreSQL database server\n",
    "conn = None\n",
    "try:\n",
    "    # read connection parameters\n",
    "    params = config()\n",
    "\n",
    "    # connect to the PostgreSQL server\n",
    "    print('Connecting to the PostgreSQL database...')\n",
    "    conn = psycopg2.connect(**params)\n",
    "    if conn:\n",
    "        print('Connected to database')\n",
    "\n",
    "except (Exception, psycopg2.DatabaseError) as error:\n",
    "    print(error)\n",
    "\n",
    "cursor = conn.cursor()"
   ]
  },
  {
   "cell_type": "markdown",
   "id": "fbc64f76",
   "metadata": {},
   "source": [
    "## Creating tables in database\n",
    "Before we load the data, we have to create tables to contain them."
   ]
  },
  {
   "cell_type": "code",
   "execution_count": 93,
   "id": "6eff5611",
   "metadata": {},
   "outputs": [],
   "source": [
    "# Postgres command to create the tables\n",
    "create_tables = (        \n",
    "        \"\"\"\n",
    "        CREATE TABLE IF NOT EXISTS public.emp_info\n",
    "        (\n",
    "            \"EmployeeID\" integer NOT NULL,\n",
    "            \"StreetAddress\" character varying(75),\n",
    "            \"City\" character varying(50),\n",
    "            \"ZipCode\" integer,\n",
    "            \"State_code\" character varying(2) NOT NULL,\n",
    "            \"Country_code\" character varying(5) NOT NULL,\n",
    "            \"Start_Date\" date,\n",
    "            \"Termination_Date\" date,\n",
    "            \"Active_Status\" smallint,\n",
    "            start_year integer,\n",
    "            termination_year integer,\n",
    "            tenure_months numeric(5, 2),\n",
    "            tenure_years numeric(5, 2),\n",
    "            PRIMARY KEY (\"EmployeeID\")\n",
    "        )\n",
    "        \"\"\",\n",
    "        \"\"\"\n",
    "        CREATE TABLE IF NOT EXISTS public.emp_demo\n",
    "        (\n",
    "            \"EmployeeID\" integer NOT NULL,\n",
    "            \"Gender\" character varying(6),\n",
    "            \"Gender_Identity\" character varying(12),\n",
    "            \"Race_Ethnicity\" character varying(30),\n",
    "            \"Veteran\" smallint,\n",
    "            \"Disability\" smallint,\n",
    "            \"Education\" character varying(50),\n",
    "            \"Sexual_Orientation\" character varying(30),\n",
    "            \"Age\" smallint,\n",
    "            \"DOB\" date,\n",
    "            PRIMARY KEY (\"EmployeeID\")\n",
    "        )\n",
    "        \"\"\",\n",
    "        \"\"\"\n",
    "        CREATE TABLE IF NOT EXISTS public.job_details\n",
    "        (\n",
    "            \"Job_Profile\" integer NOT NULL,\n",
    "            \"Department\" character varying(20),\n",
    "            \"Job_title\" character varying(35),\n",
    "            \"Salary\" numeric(7, 2),\n",
    "            level character varying(50),\n",
    "            \"Bonus_pct\" numeric(3, 2),\n",
    "            PRIMARY KEY (\"Job_Profile\")\n",
    "        )\n",
    "        \"\"\",\n",
    "        \"\"\"\n",
    "        CREATE TABLE IF NOT EXISTS public.office\n",
    "        (\n",
    "            office_id integer NOT NULL,\n",
    "            office_name character varying(20),\n",
    "            office_type character varying(30),\n",
    "            PRIMARY KEY (office_id)\n",
    "        )\n",
    "        \"\"\",\n",
    "        \"\"\"\n",
    "        CREATE TABLE IF NOT EXISTS public.state\n",
    "        (\n",
    "            \"State_code\" character varying(2) NOT NULL,\n",
    "            \"State_name\" character varying(50),\n",
    "            PRIMARY KEY (\"State_code\")\n",
    "        )\n",
    "        \"\"\",\n",
    "        \"\"\"\n",
    "        CREATE TABLE IF NOT EXISTS public.country\n",
    "        (\n",
    "            \"Country_code\" character varying(5) NOT NULL,\n",
    "            \"Country_name\" character varying(50),\n",
    "            PRIMARY KEY (\"Country_code\")\n",
    "        )\n",
    "        \"\"\",\n",
    "        \"\"\"\n",
    "        CREATE TABLE IF NOT EXISTS public.main_details\n",
    "        (\n",
    "            \"EmployeeID\" integer NOT NULL,\n",
    "            \"First_name\" character varying(50),\n",
    "            \"Surname\" character varying(50),\n",
    "            \"Job_Profile\" integer NOT NULL,\n",
    "            office_id integer NOT NULL,\n",
    "            PRIMARY KEY (\"EmployeeID\")\n",
    "        )\n",
    "        \"\"\"\n",
    ")"
   ]
  },
  {
   "cell_type": "code",
   "execution_count": 94,
   "id": "11a58373",
   "metadata": {},
   "outputs": [],
   "source": [
    "# Command to add foreign keys\n",
    "add_fks = (\n",
    "        \"\"\"\n",
    "        ALTER TABLE IF EXISTS public.emp_info\n",
    "        ADD FOREIGN KEY (\"Country_code\")\n",
    "        REFERENCES public.country (\"Country_code\") MATCH SIMPLE\n",
    "        ON UPDATE CASCADE\n",
    "        ON DELETE CASCADE\n",
    "        \"\"\",\n",
    "        \"\"\"\n",
    "        ALTER TABLE IF EXISTS public.emp_info\n",
    "        ADD FOREIGN KEY (\"State_code\")\n",
    "        REFERENCES public.state (\"State_code\") MATCH SIMPLE\n",
    "        ON UPDATE CASCADE\n",
    "        ON DELETE CASCADE\n",
    "        \"\"\",\n",
    "        \"\"\"\n",
    "        ALTER TABLE IF EXISTS public.main_details\n",
    "        ADD FOREIGN KEY (\"EmployeeID\")\n",
    "        REFERENCES public.emp_info (\"EmployeeID\") MATCH SIMPLE\n",
    "        ON UPDATE CASCADE\n",
    "        ON DELETE CASCADE\n",
    "        \"\"\",\n",
    "        \"\"\"\n",
    "        ALTER TABLE IF EXISTS public.main_details\n",
    "        ADD FOREIGN KEY (\"Job_Profile\")\n",
    "        REFERENCES public.job_details (\"Job_Profile\") MATCH SIMPLE\n",
    "        ON UPDATE CASCADE\n",
    "        ON DELETE CASCADE\n",
    "        \"\"\",\n",
    "        \"\"\"\n",
    "        ALTER TABLE IF EXISTS public.main_details\n",
    "        ADD FOREIGN KEY (office_id)\n",
    "        REFERENCES public.office (office_id) MATCH SIMPLE\n",
    "        ON UPDATE CASCADE\n",
    "        ON DELETE CASCADE\n",
    "        \"\"\",\n",
    "        \"\"\"\n",
    "        ALTER TABLE IF EXISTS public.main_details\n",
    "        ADD FOREIGN KEY (\"EmployeeID\")\n",
    "        REFERENCES public.emp_demo (\"EmployeeID\") MATCH SIMPLE\n",
    "        ON UPDATE CASCADE\n",
    "        ON DELETE CASCADE\n",
    "        \"\"\"\n",
    ")"
   ]
  },
  {
   "cell_type": "code",
   "execution_count": 95,
   "id": "3001d271",
   "metadata": {},
   "outputs": [],
   "source": [
    "# execute creation commands\n",
    "for command in create_tables:\n",
    "    cursor.execute(command)"
   ]
  },
  {
   "cell_type": "code",
   "execution_count": 96,
   "id": "c423fd72",
   "metadata": {},
   "outputs": [],
   "source": [
    "# execute alteration commands\n",
    "for command in add_fks:\n",
    "    cursor.execute(command)"
   ]
  },
  {
   "cell_type": "code",
   "execution_count": 97,
   "id": "21d02dc1",
   "metadata": {},
   "outputs": [],
   "source": [
    "# commit creation of tables\n",
    "conn.commit()"
   ]
  },
  {
   "cell_type": "code",
   "execution_count": null,
   "id": "07a36445",
   "metadata": {},
   "outputs": [],
   "source": []
  }
 ],
 "metadata": {
  "kernelspec": {
   "display_name": "Python 3 (ipykernel)",
   "language": "python",
   "name": "python3"
  },
  "language_info": {
   "codemirror_mode": {
    "name": "ipython",
    "version": 3
   },
   "file_extension": ".py",
   "mimetype": "text/x-python",
   "name": "python",
   "nbconvert_exporter": "python",
   "pygments_lexer": "ipython3",
   "version": "3.8.12"
  }
 },
 "nbformat": 4,
 "nbformat_minor": 5
}
