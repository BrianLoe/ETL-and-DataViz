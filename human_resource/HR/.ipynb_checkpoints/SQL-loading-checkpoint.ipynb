{
 "cells": [
  {
   "cell_type": "markdown",
   "id": "87f06c1f",
   "metadata": {},
   "source": [
    "# Loading data into Postgresql databases on local server."
   ]
  },
  {
   "cell_type": "markdown",
   "id": "8ac24186",
   "metadata": {},
   "source": [
    "We are going to load the tables we have normalized and validated earlier into Postgresql database local server.  \n",
    "First, we have to establish a connection to the server using library psycopg2. I have created the login parameters in a separate file. I have also created a configuration file to read the defined parameters into a dictionary."
   ]
  },
  {
   "cell_type": "markdown",
   "id": "0e9b890f",
   "metadata": {},
   "source": [
    "## Establishing connection to Postgresql server\n",
    "I already created the database that I am going to use with the name Human_resource. So, I am going to directly connect to that database"
   ]
  },
  {
   "cell_type": "code",
   "execution_count": 7,
   "id": "f76e9907",
   "metadata": {},
   "outputs": [
    {
     "name": "stdout",
     "output_type": "stream",
     "text": [
      "Connecting to the PostgreSQL database...\n",
      "Connected to database\n"
     ]
    }
   ],
   "source": [
    "import psycopg2\n",
    "from config import config\n",
    "\n",
    "# Connect to the PostgreSQL database server\n",
    "conn = None\n",
    "try:\n",
    "    # read connection parameters\n",
    "    params = config()\n",
    "\n",
    "    # connect to the PostgreSQL server\n",
    "    print('Connecting to the PostgreSQL database...')\n",
    "    conn = psycopg2.connect(**params)\n",
    "    if conn:\n",
    "        print('Connected to database')\n",
    "\n",
    "except (Exception, psycopg2.DatabaseError) as error:\n",
    "    print(error)\n",
    "\n",
    "cursor = conn.cursor()"
   ]
  },
  {
   "cell_type": "markdown",
   "id": "181c1208",
   "metadata": {},
   "source": [
    "## Creating tables in database\n",
    "Before we load the data, we have to create tables to contain them."
   ]
  },
  {
   "cell_type": "code",
   "execution_count": 8,
   "id": "037c1736",
   "metadata": {},
   "outputs": [],
   "source": [
    "# Postgres command to create the tables\n",
    "create_tables = (        \n",
    "        \"\"\"\n",
    "        CREATE TABLE IF NOT EXISTS public.emp_info\n",
    "        (\n",
    "            employeeid integer NOT NULL,\n",
    "            streetaddress character varying(75),\n",
    "            city character varying(50),\n",
    "            zipcode character varying(15),\n",
    "            state_code character varying(2),\n",
    "            country_code character varying(5),\n",
    "            start_date date,\n",
    "            termination_date date,\n",
    "            active_status smallint,\n",
    "            start_year integer,\n",
    "            termination_year integer,\n",
    "            tenure_months numeric(5, 2),\n",
    "            tenure_years numeric(5, 2),\n",
    "            PRIMARY KEY (employeeid)\n",
    "        )\n",
    "        \"\"\",\n",
    "        \"\"\"\n",
    "        CREATE TABLE IF NOT EXISTS public.emp_demo\n",
    "        (\n",
    "            employeeid integer NOT NULL,\n",
    "            \"Gender\" character varying(8),\n",
    "            gender_identity character varying(50),\n",
    "            race_ethnicity character varying(50),\n",
    "            veteran smallint,\n",
    "            disability smallint,\n",
    "            education character varying(50),\n",
    "            sexual_orientation character varying(50),\n",
    "            age smallint,\n",
    "            dob date,\n",
    "            PRIMARY KEY (employeeid)\n",
    "        )\n",
    "        \"\"\",\n",
    "        \"\"\"\n",
    "        CREATE TABLE IF NOT EXISTS public.job_details\n",
    "        (\n",
    "            job_profile character varying(8) NOT NULL,\n",
    "            job_title character varying(75),\n",
    "            level character varying(30),\n",
    "            bonus_pct numeric(3, 2),\n",
    "            department character varying(20),\n",
    "            compensation integer,\n",
    "            PRIMARY KEY (job_profile)\n",
    "        )\n",
    "        \"\"\",\n",
    "        \"\"\"\n",
    "        CREATE TABLE IF NOT EXISTS public.office\n",
    "        (\n",
    "            office_id integer NOT NULL,\n",
    "            office_name character varying(20),\n",
    "            currency character varying(3),\n",
    "            office_type character varying(30),\n",
    "            PRIMARY KEY (office_id)\n",
    "        )\n",
    "        \"\"\",\n",
    "        \"\"\"\n",
    "        CREATE TABLE IF NOT EXISTS public.state\n",
    "        (\n",
    "            state_code character varying(2) NOT NULL,\n",
    "            state_name character varying(50),\n",
    "            PRIMARY KEY (state_code)\n",
    "        )\n",
    "        \"\"\",\n",
    "        \"\"\"\n",
    "        CREATE TABLE IF NOT EXISTS public.country\n",
    "        (\n",
    "            country_code character varying(5) NOT NULL,\n",
    "            country_name character varying(50),\n",
    "            PRIMARY KEY (country_code)\n",
    "        )\n",
    "        \"\"\",\n",
    "        \"\"\"\n",
    "        CREATE TABLE IF NOT EXISTS public.main_details\n",
    "        (\n",
    "            employeeid integer NOT NULL,\n",
    "            first_name character varying(50),\n",
    "            surname character varying(50),\n",
    "            job_profile character varying(8) NOT NULL,\n",
    "            \"salary(usd)\" numeric(7, 2),\n",
    "            office_id integer NOT NULL,\n",
    "            PRIMARY KEY (employeeid)\n",
    "        )\n",
    "        \"\"\"\n",
    ")"
   ]
  },
  {
   "cell_type": "code",
   "execution_count": 9,
   "id": "4fa1b219",
   "metadata": {},
   "outputs": [],
   "source": [
    "# Command to add foreign keys\n",
    "add_fks = (\n",
    "        \"\"\"\n",
    "        ALTER TABLE IF EXISTS public.emp_info\n",
    "        ADD FOREIGN KEY (country_code)\n",
    "        REFERENCES public.country (country_code) MATCH SIMPLE\n",
    "        ON UPDATE CASCADE\n",
    "        ON DELETE CASCADE\n",
    "        \"\"\",\n",
    "        \"\"\"\n",
    "        ALTER TABLE IF EXISTS public.emp_info\n",
    "        ADD FOREIGN KEY (state_code)\n",
    "        REFERENCES public.state (state_code) MATCH SIMPLE\n",
    "        ON UPDATE CASCADE\n",
    "        ON DELETE CASCADE\n",
    "        \"\"\",\n",
    "        \"\"\"\n",
    "        ALTER TABLE IF EXISTS public.main_details\n",
    "        ADD FOREIGN KEY (employeeid)\n",
    "        REFERENCES public.emp_info (employeeid) MATCH SIMPLE\n",
    "        ON UPDATE CASCADE\n",
    "        ON DELETE CASCADE\n",
    "        \"\"\",\n",
    "        \"\"\"\n",
    "        ALTER TABLE IF EXISTS public.main_details\n",
    "        ADD FOREIGN KEY (job_profile)\n",
    "        REFERENCES public.job_details (job_profile) MATCH SIMPLE\n",
    "        ON UPDATE CASCADE\n",
    "        ON DELETE CASCADE\n",
    "        \"\"\",\n",
    "        \"\"\"\n",
    "        ALTER TABLE IF EXISTS public.main_details\n",
    "        ADD FOREIGN KEY (office_id)\n",
    "        REFERENCES public.office (office_id) MATCH SIMPLE\n",
    "        ON UPDATE CASCADE\n",
    "        ON DELETE CASCADE\n",
    "        \"\"\",\n",
    "        \"\"\"\n",
    "        ALTER TABLE IF EXISTS public.main_details\n",
    "        ADD FOREIGN KEY (employeeid)\n",
    "        REFERENCES public.emp_demo (employeeid) MATCH SIMPLE\n",
    "        ON UPDATE CASCADE\n",
    "        ON DELETE CASCADE\n",
    "        \"\"\"\n",
    ")"
   ]
  },
  {
   "cell_type": "code",
   "execution_count": 10,
   "id": "e17a873d",
   "metadata": {},
   "outputs": [],
   "source": [
    "# execute creation commands\n",
    "for command in create_tables:\n",
    "    cursor.execute(command)"
   ]
  },
  {
   "cell_type": "code",
   "execution_count": 11,
   "id": "23b68080",
   "metadata": {},
   "outputs": [],
   "source": [
    "# execute alteration commands\n",
    "for command in add_fks:\n",
    "    cursor.execute(command)"
   ]
  },
  {
   "cell_type": "code",
   "execution_count": 12,
   "id": "42d798c6",
   "metadata": {},
   "outputs": [],
   "source": [
    "# commit creation of tables\n",
    "conn.commit()"
   ]
  },
  {
   "cell_type": "markdown",
   "id": "e550bc29",
   "metadata": {},
   "source": [
    "## Inserting data into tables\n",
    "We can import the data using pgadmin tool or from the cli using \\copy command. I imported the data using pgadmin due to read permissions. "
   ]
  },
  {
   "cell_type": "code",
   "execution_count": 13,
   "id": "7a55e007",
   "metadata": {},
   "outputs": [
    {
     "name": "stdout",
     "output_type": "stream",
     "text": [
      "('office',)\n",
      "('country',)\n",
      "('state',)\n",
      "('main_details',)\n",
      "('job_details',)\n",
      "('emp_demo',)\n",
      "('emp_info',)\n"
     ]
    }
   ],
   "source": [
    "cursor.execute(\"\"\"SELECT table_name FROM information_schema.tables\n",
    "       WHERE table_schema = 'public'\"\"\")\n",
    "for table in cursor.fetchall():\n",
    "    print(table)"
   ]
  },
  {
   "cell_type": "code",
   "execution_count": 14,
   "id": "39812efd",
   "metadata": {},
   "outputs": [],
   "source": [
    "cursor.close() # disconnect cursor"
   ]
  },
  {
   "cell_type": "code",
   "execution_count": 16,
   "id": "82c38a8b",
   "metadata": {},
   "outputs": [],
   "source": [
    "conn.close() # disconnect database connection"
   ]
  }
 ],
 "metadata": {
  "kernelspec": {
   "display_name": "Python 3 (ipykernel)",
   "language": "python",
   "name": "python3"
  },
  "language_info": {
   "codemirror_mode": {
    "name": "ipython",
    "version": 3
   },
   "file_extension": ".py",
   "mimetype": "text/x-python",
   "name": "python",
   "nbconvert_exporter": "python",
   "pygments_lexer": "ipython3",
   "version": "3.8.12"
  }
 },
 "nbformat": 4,
 "nbformat_minor": 5
}
