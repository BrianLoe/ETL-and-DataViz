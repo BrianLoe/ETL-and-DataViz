{
 "cells": [
  {
   "cell_type": "code",
   "execution_count": 5,
   "id": "756fd0a2",
   "metadata": {},
   "outputs": [],
   "source": [
    "import pandas as pd\n",
    "import numpy as np"
   ]
  },
  {
   "cell_type": "markdown",
   "id": "1c320db2",
   "metadata": {},
   "source": [
    "# Extracting Data"
   ]
  },
  {
   "cell_type": "markdown",
   "id": "9e7eb9df",
   "metadata": {},
   "source": [
    "## Getting dataset from Kaggle"
   ]
  },
  {
   "cell_type": "code",
   "execution_count": 6,
   "id": "8aa98d99",
   "metadata": {},
   "outputs": [],
   "source": [
    "import os\n",
    "os.environ['KAGGLE_USERNAME'] = \"\" # Insert Username\n",
    "os.environ['KAGGLE_KEY'] = \"\" # Insert API key\n",
    "\n",
    "from kaggle.api.kaggle_api_extended import KaggleApi\n",
    "api = KaggleApi()\n",
    "api.authenticate()"
   ]
  },
  {
   "cell_type": "code",
   "execution_count": 7,
   "id": "95ba243a",
   "metadata": {},
   "outputs": [],
   "source": [
    "# Download dataset\n",
    "api.dataset_download_files('suraj520/customer-support-ticket-dataset', path=\".\")"
   ]
  },
  {
   "cell_type": "code",
   "execution_count": 14,
   "id": "97859a25",
   "metadata": {},
   "outputs": [],
   "source": [
    "# Unzip file\n",
    "from zipfile import ZipFile\n",
    "\n",
    "zip = ZipFile('customer-support-ticket-dataset.zip')\n",
    "zip.extractall()"
   ]
  },
  {
   "cell_type": "code",
   "execution_count": null,
   "id": "f71b0dec",
   "metadata": {},
   "outputs": [],
   "source": []
  }
 ],
 "metadata": {
  "kernelspec": {
   "display_name": "Python 3 (ipykernel)",
   "language": "python",
   "name": "python3"
  },
  "language_info": {
   "codemirror_mode": {
    "name": "ipython",
    "version": 3
   },
   "file_extension": ".py",
   "mimetype": "text/x-python",
   "name": "python",
   "nbconvert_exporter": "python",
   "pygments_lexer": "ipython3",
   "version": "3.8.12"
  }
 },
 "nbformat": 4,
 "nbformat_minor": 5
}
